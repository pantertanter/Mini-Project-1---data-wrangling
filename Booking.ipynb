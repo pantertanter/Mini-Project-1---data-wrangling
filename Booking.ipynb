{
 "cells": [
  {
   "cell_type": "code",
   "execution_count": 17,
   "id": "90d23b91",
   "metadata": {},
   "outputs": [
    {
     "name": "stdout",
     "output_type": "stream",
     "text": [
      "                                                page\n",
      "0  {'pageurl': 'https://www.booking.com/hotel/in/...\n",
      "1  {'pageurl': 'https://www.booking.com/hotel/in/...\n",
      "2  {'pageurl': 'https://www.booking.com/hotel/in/...\n",
      "3  {'pageurl': 'https://www.booking.com/hotel/in/...\n",
      "4  {'pageurl': 'https://www.booking.com/hotel/in/...\n"
     ]
    }
   ],
   "source": [
    "import pandas as pd\n",
    "import json\n",
    "\n",
    "def load_data_from_json(file_path):\n",
    "    with open(file_path, 'r', encoding='utf-8') as file:\n",
    "        data = json.load(file)\n",
    "    return data\n",
    "\n",
    "# Example usage:\n",
    "file_path = 'C:/Users/Alexander Michelsen/Python Projects/Mini Project 1 - data wrangling/data sets/booking_com-travel_hotels.json'\n",
    "data = load_data_from_json(file_path)\n",
    "\n",
    "# Access the data under the 'root' key\n",
    "if 'root' in data:\n",
    "    try:\n",
    "        # Convert the data to a DataFrame\n",
    "        df = pd.DataFrame(data['root'])\n",
    "\n",
    "        # Display the first few rows of the DataFrame\n",
    "        print(df.head())\n",
    "    except Exception as e:\n",
    "        print(\"An error occurred while converting data to DataFrame:\", e)\n",
    "else:\n",
    "    print(\"The 'root' key was not found in the JSON data.\")\n"
   ]
  },
  {
   "cell_type": "code",
   "execution_count": null,
   "id": "4d2264f3",
   "metadata": {},
   "outputs": [],
   "source": [
    "df.head"
   ]
  }
 ],
 "metadata": {
  "kernelspec": {
   "display_name": "Python 3 (ipykernel)",
   "language": "python",
   "name": "python3"
  },
  "language_info": {
   "codemirror_mode": {
    "name": "ipython",
    "version": 3
   },
   "file_extension": ".py",
   "mimetype": "text/x-python",
   "name": "python",
   "nbconvert_exporter": "python",
   "pygments_lexer": "ipython3",
   "version": "3.11.5"
  }
 },
 "nbformat": 4,
 "nbformat_minor": 5
}
