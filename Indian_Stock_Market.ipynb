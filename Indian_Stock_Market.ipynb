{
 "cells": [
  {
   "cell_type": "code",
   "execution_count": 4,
   "id": "6b5dfadf-d2a1-46f8-8f83-b3ad913b2186",
   "metadata": {
    "tags": []
   },
   "outputs": [],
   "source": [
    "import pandas as pd\n",
    "import numpy as np\n",
    "import json\n",
    "\n",
    "with open('./data sets/Indian_stock_data.json', 'r') as file:\n",
    "    data = json.load(file)\n",
    "\n",
    "    df = pd.DataFrame(data)"
   ]
  },
  {
   "cell_type": "code",
   "execution_count": 5,
   "id": "2781a480",
   "metadata": {},
   "outputs": [
    {
     "data": {
      "text/plain": [
       "['NAME',\n",
       " 'TYPE',\n",
       " 'COST',\n",
       " 'STRENGTH',\n",
       " 'WEAKNESS',\n",
       " 'OPPORTUNITIES',\n",
       " 'THREATS',\n",
       " 'P_LOW',\n",
       " 'P_HIGH',\n",
       " 'YEARLY_LOW',\n",
       " 'YEARLY_HIGH']"
      ]
     },
     "execution_count": 5,
     "metadata": {},
     "output_type": "execute_result"
    }
   ],
   "source": [
    "list(df)"
   ]
  },
  {
   "cell_type": "code",
   "execution_count": 6,
   "id": "f8894b33",
   "metadata": {},
   "outputs": [
    {
     "data": {
      "text/plain": [
       "NAME                0\n",
       "TYPE             3289\n",
       "COST             4320\n",
       "STRENGTH            0\n",
       "WEAKNESS            0\n",
       "OPPORTUNITIES       0\n",
       "THREATS             0\n",
       "P_LOW            3246\n",
       "P_HIGH           3246\n",
       "YEARLY_LOW       3297\n",
       "YEARLY_HIGH      3297\n",
       "dtype: int64"
      ]
     },
     "execution_count": 6,
     "metadata": {},
     "output_type": "execute_result"
    }
   ],
   "source": [
    "df.isnull().sum()"
   ]
  },
  {
   "cell_type": "code",
   "execution_count": 7,
   "id": "7607025f",
   "metadata": {},
   "outputs": [
    {
     "data": {
      "text/plain": [
       "(9543, 11)"
      ]
     },
     "execution_count": 7,
     "metadata": {},
     "output_type": "execute_result"
    }
   ],
   "source": [
    "df.shape # 9543 stocks - alot seems to have a null values, yet its less than half, so lets remove them"
   ]
  },
  {
   "cell_type": "code",
   "execution_count": 8,
   "id": "c385b268",
   "metadata": {},
   "outputs": [
    {
     "data": {
      "text/plain": [
       "(5112, 11)"
      ]
     },
     "execution_count": 8,
     "metadata": {},
     "output_type": "execute_result"
    }
   ],
   "source": [
    "df = df.dropna()\n",
    "df.shape #We dropped null values, and looked how many stocks are left (5112)"
   ]
  },
  {
   "cell_type": "code",
   "execution_count": 9,
   "id": "cf4f8137",
   "metadata": {},
   "outputs": [
    {
     "data": {
      "text/plain": [
       "NAME             0\n",
       "TYPE             0\n",
       "COST             0\n",
       "STRENGTH         0\n",
       "WEAKNESS         0\n",
       "OPPORTUNITIES    0\n",
       "THREATS          0\n",
       "P_LOW            0\n",
       "P_HIGH           0\n",
       "YEARLY_LOW       0\n",
       "YEARLY_HIGH      0\n",
       "dtype: int64"
      ]
     },
     "execution_count": 9,
     "metadata": {},
     "output_type": "execute_result"
    }
   ],
   "source": [
    "#lets see if anything is still null:\n",
    "df.isnull().sum()"
   ]
  },
  {
   "cell_type": "code",
   "execution_count": 10,
   "id": "082acba6",
   "metadata": {},
   "outputs": [
    {
     "data": {
      "text/html": [
       "<div>\n",
       "<style scoped>\n",
       "    .dataframe tbody tr th:only-of-type {\n",
       "        vertical-align: middle;\n",
       "    }\n",
       "\n",
       "    .dataframe tbody tr th {\n",
       "        vertical-align: top;\n",
       "    }\n",
       "\n",
       "    .dataframe thead th {\n",
       "        text-align: right;\n",
       "    }\n",
       "</style>\n",
       "<table border=\"1\" class=\"dataframe\">\n",
       "  <thead>\n",
       "    <tr style=\"text-align: right;\">\n",
       "      <th></th>\n",
       "      <th>COST</th>\n",
       "    </tr>\n",
       "  </thead>\n",
       "  <tbody>\n",
       "    <tr>\n",
       "      <th>count</th>\n",
       "      <td>5112.000000</td>\n",
       "    </tr>\n",
       "    <tr>\n",
       "      <th>mean</th>\n",
       "      <td>133.655219</td>\n",
       "    </tr>\n",
       "    <tr>\n",
       "      <th>std</th>\n",
       "      <td>209.258050</td>\n",
       "    </tr>\n",
       "    <tr>\n",
       "      <th>min</th>\n",
       "      <td>0.000000</td>\n",
       "    </tr>\n",
       "    <tr>\n",
       "      <th>25%</th>\n",
       "      <td>5.195000</td>\n",
       "    </tr>\n",
       "    <tr>\n",
       "      <th>50%</th>\n",
       "      <td>34.900000</td>\n",
       "    </tr>\n",
       "    <tr>\n",
       "      <th>75%</th>\n",
       "      <td>161.137500</td>\n",
       "    </tr>\n",
       "    <tr>\n",
       "      <th>max</th>\n",
       "      <td>999.990000</td>\n",
       "    </tr>\n",
       "  </tbody>\n",
       "</table>\n",
       "</div>"
      ],
      "text/plain": [
       "              COST\n",
       "count  5112.000000\n",
       "mean    133.655219\n",
       "std     209.258050\n",
       "min       0.000000\n",
       "25%       5.195000\n",
       "50%      34.900000\n",
       "75%     161.137500\n",
       "max     999.990000"
      ]
     },
     "execution_count": 10,
     "metadata": {},
     "output_type": "execute_result"
    }
   ],
   "source": [
    "df.describe() #tells us the prices of stocks in india."
   ]
  },
  {
   "cell_type": "code",
   "execution_count": 11,
   "id": "f51fdb09",
   "metadata": {},
   "outputs": [
    {
     "name": "stdout",
     "output_type": "stream",
     "text": [
      "                NAME TYPE    COST           STRENGTH          WEAKNESS  \\\n",
      "7594  DSP Liquid ETF  ETF  999.99  Near 52 Week High  Near 52 Week Low   \n",
      "\n",
      "                      OPPORTUNITIES                   THREATS   P_LOW  \\\n",
      "7594  No Opportunity for this stock  No Threat for this stock  999.99   \n",
      "\n",
      "       P_HIGH YEARLY_LOW YEARLY_HIGH  \n",
      "7594  1000.01     995.30     1045.00  \n"
     ]
    }
   ],
   "source": [
    "#lets check what stock costs the most money - according to the table above its 999.99 rupee, as all the cost is in local currency\n",
    "Company = df[df['COST'] == 999.99]\n",
    "print(Company)"
   ]
  },
  {
   "cell_type": "code",
   "execution_count": 12,
   "id": "691199d2",
   "metadata": {},
   "outputs": [
    {
     "data": {
      "text/html": [
       "<div>\n",
       "<style scoped>\n",
       "    .dataframe tbody tr th:only-of-type {\n",
       "        vertical-align: middle;\n",
       "    }\n",
       "\n",
       "    .dataframe tbody tr th {\n",
       "        vertical-align: top;\n",
       "    }\n",
       "\n",
       "    .dataframe thead th {\n",
       "        text-align: right;\n",
       "    }\n",
       "</style>\n",
       "<table border=\"1\" class=\"dataframe\">\n",
       "  <thead>\n",
       "    <tr style=\"text-align: right;\">\n",
       "      <th></th>\n",
       "      <th>NAME</th>\n",
       "      <th>TYPE</th>\n",
       "      <th>COST</th>\n",
       "      <th>STRENGTH</th>\n",
       "      <th>WEAKNESS</th>\n",
       "      <th>OPPORTUNITIES</th>\n",
       "      <th>THREATS</th>\n",
       "      <th>P_LOW</th>\n",
       "      <th>P_HIGH</th>\n",
       "      <th>YEARLY_LOW</th>\n",
       "      <th>YEARLY_HIGH</th>\n",
       "    </tr>\n",
       "  </thead>\n",
       "  <tbody>\n",
       "    <tr>\n",
       "      <th>7124</th>\n",
       "      <td>Geetanjali Credit and Capital Ltd.</td>\n",
       "      <td>Finance - NBFC</td>\n",
       "      <td>2.59</td>\n",
       "      <td>Strong Momentum: Price above short, medium and...</td>\n",
       "      <td>Degrowth in Revenue and Profit</td>\n",
       "      <td>Stock with Low PE (PE &lt; = 10)</td>\n",
       "      <td>No Threat for this stock</td>\n",
       "      <td>2.59</td>\n",
       "      <td>2.59</td>\n",
       "      <td>0.92</td>\n",
       "      <td>4.29</td>\n",
       "    </tr>\n",
       "    <tr>\n",
       "      <th>9142</th>\n",
       "      <td>Andhra Petro Ltd.</td>\n",
       "      <td>Commodity Chemicals</td>\n",
       "      <td>103.83</td>\n",
       "      <td>Strong Momentum: Price above short, medium and...</td>\n",
       "      <td>Degrowth in Revenue and Profit</td>\n",
       "      <td>Positive Breakout Third Resistance ( LTP &gt; R3)</td>\n",
       "      <td>No Threat for this stock</td>\n",
       "      <td>97.75</td>\n",
       "      <td>105.90</td>\n",
       "      <td>46.00</td>\n",
       "      <td>105.90</td>\n",
       "    </tr>\n",
       "    <tr>\n",
       "      <th>261</th>\n",
       "      <td>Fundviser Capital (india) Ltd.</td>\n",
       "      <td>Dyes &amp; Pigments</td>\n",
       "      <td>0.00</td>\n",
       "      <td>Company with No Debt</td>\n",
       "      <td>Negative Breakdown Second Support (LTP &lt; S2)</td>\n",
       "      <td>Highest Recovery from 52 Week Low</td>\n",
       "      <td>No Threat for this stock</td>\n",
       "      <td>56.50</td>\n",
       "      <td>56.50</td>\n",
       "      <td>8.52</td>\n",
       "      <td>80.08</td>\n",
       "    </tr>\n",
       "    <tr>\n",
       "      <th>5861</th>\n",
       "      <td>Kamadgiri Fashion Ltd.</td>\n",
       "      <td>Textiles &amp; Apparel</td>\n",
       "      <td>75.05</td>\n",
       "      <td>Effectively using its capital to generate prof...</td>\n",
       "      <td>Degrowth in Revenue and Profit</td>\n",
       "      <td>Stock with Low PE (PE &lt; = 10)</td>\n",
       "      <td>No Threat for this stock</td>\n",
       "      <td>73.10</td>\n",
       "      <td>77.75</td>\n",
       "      <td>56.10</td>\n",
       "      <td>138.95</td>\n",
       "    </tr>\n",
       "    <tr>\n",
       "      <th>7343</th>\n",
       "      <td>Facor Alloys Ltd.</td>\n",
       "      <td>Ferro Manganese</td>\n",
       "      <td>10.36</td>\n",
       "      <td>Strong Momentum: Price above short, medium and...</td>\n",
       "      <td>Decline in Quarterly Net Profit with falling P...</td>\n",
       "      <td>Positive Breakout Second Resistance  ( LTP &gt; R2)</td>\n",
       "      <td>No Threat for this stock</td>\n",
       "      <td>9.90</td>\n",
       "      <td>10.55</td>\n",
       "      <td>6.00</td>\n",
       "      <td>12.25</td>\n",
       "    </tr>\n",
       "  </tbody>\n",
       "</table>\n",
       "</div>"
      ],
      "text/plain": [
       "                                    NAME                 TYPE    COST  \\\n",
       "7124  Geetanjali Credit and Capital Ltd.       Finance - NBFC    2.59   \n",
       "9142                   Andhra Petro Ltd.  Commodity Chemicals  103.83   \n",
       "261       Fundviser Capital (india) Ltd.      Dyes & Pigments    0.00   \n",
       "5861              Kamadgiri Fashion Ltd.   Textiles & Apparel   75.05   \n",
       "7343                   Facor Alloys Ltd.      Ferro Manganese   10.36   \n",
       "\n",
       "                                               STRENGTH  \\\n",
       "7124  Strong Momentum: Price above short, medium and...   \n",
       "9142  Strong Momentum: Price above short, medium and...   \n",
       "261                                Company with No Debt   \n",
       "5861  Effectively using its capital to generate prof...   \n",
       "7343  Strong Momentum: Price above short, medium and...   \n",
       "\n",
       "                                               WEAKNESS  \\\n",
       "7124                     Degrowth in Revenue and Profit   \n",
       "9142                     Degrowth in Revenue and Profit   \n",
       "261        Negative Breakdown Second Support (LTP < S2)   \n",
       "5861                     Degrowth in Revenue and Profit   \n",
       "7343  Decline in Quarterly Net Profit with falling P...   \n",
       "\n",
       "                                          OPPORTUNITIES  \\\n",
       "7124                     Stock with Low PE (PE < = 10)    \n",
       "9142    Positive Breakout Third Resistance ( LTP > R3)    \n",
       "261                  Highest Recovery from 52 Week Low    \n",
       "5861                     Stock with Low PE (PE < = 10)    \n",
       "7343  Positive Breakout Second Resistance  ( LTP > R2)    \n",
       "\n",
       "                       THREATS  P_LOW  P_HIGH YEARLY_LOW YEARLY_HIGH  \n",
       "7124  No Threat for this stock   2.59    2.59       0.92        4.29  \n",
       "9142  No Threat for this stock  97.75  105.90      46.00      105.90  \n",
       "261   No Threat for this stock  56.50   56.50       8.52       80.08  \n",
       "5861  No Threat for this stock  73.10   77.75      56.10      138.95  \n",
       "7343  No Threat for this stock   9.90   10.55       6.00       12.25  "
      ]
     },
     "execution_count": 12,
     "metadata": {},
     "output_type": "execute_result"
    }
   ],
   "source": [
    "df.sample(5)"
   ]
  },
  {
   "cell_type": "code",
   "execution_count": 13,
   "id": "f29b741d",
   "metadata": {},
   "outputs": [
    {
     "name": "stdout",
     "output_type": "stream",
     "text": [
      "                          NAME                  TYPE    COST  \\\n",
      "0            A & M Febcon Ltd.         Miscellaneous    0.95   \n",
      "1         A F Enterprises Ltd.  Finance - Investment    5.55   \n",
      "4             A K Spintex Ltd.    Textiles & Apparel  138.00   \n",
      "5  A2Z Infra Engineering  Ltd.        Infrastructure   13.81   \n",
      "8        AAA Technologies Ltd.              Software   97.65   \n",
      "\n",
      "                                            STRENGTH  \\\n",
      "0                  Company with Zero Promoter Pledge   \n",
      "1  Growth in Net Profit with increasing Profit Ma...   \n",
      "4  Strong Momentum: Price above short, medium and...   \n",
      "5  Strong Momentum: Price above short, medium and...   \n",
      "8  Strong Momentum: Price above short, medium and...   \n",
      "\n",
      "                                            WEAKNESS  \\\n",
      "0  Low Piotroski Score : Companies with weak fina...   \n",
      "1  Inefficient use of shareholder funds - ROE dec...   \n",
      "4  Decline in Net Profit with falling Profit Marg...   \n",
      "5  Inefficient use of shareholder funds - ROE dec...   \n",
      "8  Declining Net Cash Flow : Companies not able t...   \n",
      "\n",
      "                                       OPPORTUNITIES  \\\n",
      "0    Positive Breakout First Resistance ( LTP > R1)    \n",
      "1          Turnaround companies- loss to profit QoQ    \n",
      "4                     Stock with Low PE (PE < = 10)    \n",
      "5                 Highest Recovery from 52 Week Low    \n",
      "8  Negative to Positive growth in Sales and Profi...   \n",
      "\n",
      "                    THREATS   P_LOW  P_HIGH YEARLY_LOW YEARLY_HIGH  \n",
      "0  No Threat for this stock    0.87    0.95       0.85        2.36  \n",
      "1  No Threat for this stock    5.21    5.70       4.30       23.25  \n",
      "4  No Threat for this stock  131.05  138.45      72.25      162.00  \n",
      "5  No Threat for this stock   13.55   13.75       5.10       15.15  \n",
      "8  No Threat for this stock   98.50  100.00      41.85      108.00  \n"
     ]
    }
   ],
   "source": [
    "print(df.head())"
   ]
  },
  {
   "cell_type": "code",
   "execution_count": 14,
   "id": "5afc8777",
   "metadata": {},
   "outputs": [
    {
     "name": "stdout",
     "output_type": "stream",
     "text": [
      "                                 NAME                      TYPE    COST  \\\n",
      "19          Abhishek Corporation Ltd.        Textiles & Apparel    0.57   \n",
      "85              Aviva Industries Ltd.                   Trading   26.42   \n",
      "108          Budge Budge Company Ltd.             Miscellaneous   12.12   \n",
      "157   Cubical Financial Services Ltd.            Finance - NBFC    1.99   \n",
      "194                Duke Offshore Ltd.  Transport Infrastructure   10.92   \n",
      "...                               ...                       ...     ...   \n",
      "9177           Amrit Corporation Ltd.             Consumer Food  937.95   \n",
      "9255             Alok Industries Ltd.        Textiles & Apparel   31.73   \n",
      "9279             Alka Securities Ltd.   Finance - Stock Broking    0.89   \n",
      "9354   AGS Transact Technologies Ltd.           Online Services  117.70   \n",
      "9396             Adroit Infotech Ltd.  IT Services & Consulting   20.34   \n",
      "\n",
      "                                               STRENGTH  \\\n",
      "19    Rising Net Cash Flow and Cash from Operating a...   \n",
      "85    Effectively using its capital to generate prof...   \n",
      "108   High growth stocks with promoters increasing s...   \n",
      "157   Strong Momentum: Price above short, medium and...   \n",
      "194   Strong Momentum: Price above short, medium and...   \n",
      "...                                                 ...   \n",
      "9177                   MACD Crossover Above Signal Line   \n",
      "9255  Strong Momentum: Price above short, medium and...   \n",
      "9279                                   New 52 Week High   \n",
      "9354  Strong Momentum: Price above short, medium and...   \n",
      "9396  Strong Momentum: Price above short, medium and...   \n",
      "\n",
      "                                               WEAKNESS  \\\n",
      "19    Book Value Per Share deteriorating for last 2 ...   \n",
      "85                                New 52 week low today   \n",
      "108               Decline in Quarterly Net Profit (YoY)   \n",
      "157         Negative Breakdown Third Support (LTP < S3)   \n",
      "194   Decline in Net Profit with falling Profit Marg...   \n",
      "...                                                 ...   \n",
      "9177  Decline in Net Profit with falling Profit Marg...   \n",
      "9255                     Degrowth in Revenue and Profit   \n",
      "9279                     Degrowth in Revenue and Profit   \n",
      "9354      MFs decreased their shareholding last quarter   \n",
      "9396  Decline in Net Profit with falling Profit Marg...   \n",
      "\n",
      "                                          OPPORTUNITIES  \\\n",
      "19      Positive Breakout Third Resistance ( LTP > R3)    \n",
      "85                        No Opportunity for this stock   \n",
      "108     Positive Breakout Third Resistance ( LTP > R3)    \n",
      "157                      RSI indicating price strength    \n",
      "194   Positive Breakout Second Resistance  ( LTP > R2)    \n",
      "...                                                 ...   \n",
      "9177  Big Deal (Insider and SAST) buys last month gr...   \n",
      "9255                 Highest Recovery from 52 Week Low    \n",
      "9279    Positive Breakout Third Resistance ( LTP > R3)    \n",
      "9354    Positive Breakout First Resistance ( LTP > R1)    \n",
      "9396                     Stock with Low PE (PE < = 10)    \n",
      "\n",
      "                                                THREATS   P_LOW  P_HIGH  \\\n",
      "19                  Increasing Trend in Non-Core Income    0.57    0.57   \n",
      "85       Red Flag: Large Swings Between Profit and Loss   26.42   26.42   \n",
      "108      Red Flag: Large Swings Between Profit and Loss   12.12   12.12   \n",
      "157      Red Flag: Large Swings Between Profit and Loss    1.99    1.99   \n",
      "194      Red Flag: Large Swings Between Profit and Loss   10.00   10.92   \n",
      "...                                                 ...     ...     ...   \n",
      "9177                           Profit to Loss Companies  929.75  938.00   \n",
      "9255  Red Flags: Firms linked to ongoing regulatory ...   31.40   32.55   \n",
      "9279                      Stocks with high PE (PE > 40)    0.89    0.89   \n",
      "9354     Red Flag: Large Swings Between Profit and Loss  113.15  119.75   \n",
      "9396     Red Flag: Large Swings Between Profit and Loss   20.25   20.25   \n",
      "\n",
      "     YEARLY_LOW YEARLY_HIGH  \n",
      "19         0.49        1.54  \n",
      "85        26.42       31.78  \n",
      "108       10.00       12.12  \n",
      "157        1.19        2.42  \n",
      "194        5.96       14.31  \n",
      "...         ...         ...  \n",
      "9177     700.00     1132.80  \n",
      "9255      10.10       39.05  \n",
      "9279       0.21        0.89  \n",
      "9354      44.45      124.50  \n",
      "9396      16.65       35.35  \n",
      "\n",
      "[189 rows x 11 columns]\n"
     ]
    }
   ],
   "source": [
    "#lets see if there are any stocks, with a level of Threat that isnt labeled as: \"No Threat for this stock\"\n",
    "Result = df[df['THREATS'] != \"No Threat for this stock\"]\n",
    "print(Result)"
   ]
  },
  {
   "cell_type": "code",
   "execution_count": 16,
   "id": "2621631c",
   "metadata": {},
   "outputs": [
    {
     "data": {
      "image/png": "[encoded data removed]",
      "text/plain": [
       "<Figure size 1000x600 with 1 Axes>"
      ]
     },
     "metadata": {},
     "output_type": "display_data"
    }
   ],
   "source": [
    "import matplotlib.pyplot as plt\n",
    "import seaborn as sns\n",
    "\n",
    "# Plotting a histogram of salaries\n",
    "plt.figure(figsize=(10, 6))\n",
    "sns.histplot(data=df, x='COST', bins=30, kde=True)\n",
    "plt.title('Distribution of Stock Prices')\n",
    "plt.xlabel('Stock price in ₹')\n",
    "plt.ylabel('Frequency')\n",
    "plt.show()\n"
   ]
  },
  {
   "cell_type": "code",
   "execution_count": null,
   "id": "1f31afe4",
   "metadata": {},
   "outputs": [],
   "source": []
  }
 ],
 "metadata": {
  "kernelspec": {
   "display_name": "Python 3 (ipykernel)",
   "language": "python",
   "name": "python3"
  },
  "language_info": {
   "codemirror_mode": {
    "name": "ipython",
    "version": 3
   },
   "file_extension": ".py",
   "mimetype": "text/x-python",
   "name": "python",
   "nbconvert_exporter": "python",
   "pygments_lexer": "ipython3",
   "version": "3.11.5"
  }
 },
 "nbformat": 4,
 "nbformat_minor": 5
}
