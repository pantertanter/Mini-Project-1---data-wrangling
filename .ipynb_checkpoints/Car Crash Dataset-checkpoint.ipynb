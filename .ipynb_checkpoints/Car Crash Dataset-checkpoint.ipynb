{
 "cells": [
  {
   "cell_type": "code",
   "execution_count": 2,
   "id": "d7ab0fea",
   "metadata": {},
   "outputs": [
    {
     "name": "stdout",
     "output_type": "stream",
     "text": [
      "   Year  Month  Day Weekend?    Hour Collision Type         Injury Type  \\\n",
      "0  2015      1    5  Weekday     0.0          2-Car   No injury/unknown   \n",
      "1  2015      1    6  Weekday  1500.0          2-Car   No injury/unknown   \n",
      "2  2015      1    6  Weekend  2300.0          2-Car  Non-incapacitating   \n",
      "3  2015      1    7  Weekend   900.0          2-Car  Non-incapacitating   \n",
      "4  2015      1    7  Weekend  1100.0          2-Car   No injury/unknown   \n",
      "\n",
      "                          Primary Factor      Reported_Location   Latitude  \\\n",
      "0  OTHER (DRIVER) - EXPLAIN IN NARRATIVE             1ST & FESS  39.159207   \n",
      "1                  FOLLOWING TOO CLOSELY          2ND & COLLEGE  39.161440   \n",
      "2              DISREGARD SIGNAL/REG SIGN  BASSWOOD & BLOOMFIELD  39.149780   \n",
      "3          FAILURE TO YIELD RIGHT OF WAY         GATES & JACOBS  39.165655   \n",
      "4          FAILURE TO YIELD RIGHT OF WAY                  W 3RD  39.164848   \n",
      "\n",
      "   Longitude  \n",
      "0 -86.525874  \n",
      "1 -86.534848  \n",
      "2 -86.568890  \n",
      "3 -86.575956  \n",
      "4 -86.579625  \n"
     ]
    }
   ],
   "source": [
    "import pandas as pd\n",
    "import json\n",
    "from sqlalchemy import create_engine\n",
    "\n",
    "df = pd.read_excel('C:/Users/Alexander Michelsen/Python Projects/Mini Project 1 - data wrangling/data sets/Car Crash Dataset.xlsx')\n",
    "\n",
    "# Perform operations on the DataFrame\n",
    "print(df.head())"
   ]
  },
  {
   "cell_type": "code",
   "execution_count": 3,
   "id": "8ad0a1aa",
   "metadata": {},
   "outputs": [
    {
     "data": {
      "text/plain": [
       "Year                    0\n",
       "Month                   0\n",
       "Day                     0\n",
       "Weekend?               68\n",
       "Hour                  225\n",
       "Collision Type          6\n",
       "Injury Type             0\n",
       "Primary Factor       1121\n",
       "Reported_Location      35\n",
       "Latitude               30\n",
       "Longitude              30\n",
       "dtype: int64"
      ]
     },
     "execution_count": 3,
     "metadata": {},
     "output_type": "execute_result"
    }
   ],
   "source": [
    "# count the missing values\n",
    "df.isnull().sum()"
   ]
  },
  {
   "cell_type": "code",
   "execution_count": 6,
   "id": "0d454de9",
   "metadata": {},
   "outputs": [
    {
     "data": {
      "text/plain": [
       "(53943, 11)"
      ]
     },
     "execution_count": 6,
     "metadata": {},
     "output_type": "execute_result"
    }
   ],
   "source": [
    "df.shape"
   ]
  },
  {
   "cell_type": "code",
   "execution_count": 8,
   "id": "46378405",
   "metadata": {},
   "outputs": [
    {
     "data": {
      "text/html": [
       "<div>\n",
       "<style scoped>\n",
       "    .dataframe tbody tr th:only-of-type {\n",
       "        vertical-align: middle;\n",
       "    }\n",
       "\n",
       "    .dataframe tbody tr th {\n",
       "        vertical-align: top;\n",
       "    }\n",
       "\n",
       "    .dataframe thead th {\n",
       "        text-align: right;\n",
       "    }\n",
       "</style>\n",
       "<table border=\"1\" class=\"dataframe\">\n",
       "  <thead>\n",
       "    <tr style=\"text-align: right;\">\n",
       "      <th></th>\n",
       "      <th>Year</th>\n",
       "      <th>Month</th>\n",
       "      <th>Day</th>\n",
       "      <th>Hour</th>\n",
       "      <th>Latitude</th>\n",
       "      <th>Longitude</th>\n",
       "    </tr>\n",
       "  </thead>\n",
       "  <tbody>\n",
       "    <tr>\n",
       "      <th>count</th>\n",
       "      <td>53943.000000</td>\n",
       "      <td>53943.000000</td>\n",
       "      <td>53943.000000</td>\n",
       "      <td>53718.000000</td>\n",
       "      <td>53913.000000</td>\n",
       "      <td>53913.000000</td>\n",
       "    </tr>\n",
       "    <tr>\n",
       "      <th>mean</th>\n",
       "      <td>2008.968059</td>\n",
       "      <td>6.662162</td>\n",
       "      <td>4.196912</td>\n",
       "      <td>1347.265349</td>\n",
       "      <td>35.582109</td>\n",
       "      <td>-78.619224</td>\n",
       "    </tr>\n",
       "    <tr>\n",
       "      <th>std</th>\n",
       "      <td>3.789760</td>\n",
       "      <td>3.514630</td>\n",
       "      <td>1.909440</td>\n",
       "      <td>531.654039</td>\n",
       "      <td>11.289883</td>\n",
       "      <td>24.957587</td>\n",
       "    </tr>\n",
       "    <tr>\n",
       "      <th>min</th>\n",
       "      <td>2003.000000</td>\n",
       "      <td>1.000000</td>\n",
       "      <td>1.000000</td>\n",
       "      <td>0.000000</td>\n",
       "      <td>0.000000</td>\n",
       "      <td>-88.959213</td>\n",
       "    </tr>\n",
       "    <tr>\n",
       "      <th>25%</th>\n",
       "      <td>2006.000000</td>\n",
       "      <td>4.000000</td>\n",
       "      <td>3.000000</td>\n",
       "      <td>1000.000000</td>\n",
       "      <td>39.142048</td>\n",
       "      <td>-86.551520</td>\n",
       "    </tr>\n",
       "    <tr>\n",
       "      <th>50%</th>\n",
       "      <td>2009.000000</td>\n",
       "      <td>7.000000</td>\n",
       "      <td>4.000000</td>\n",
       "      <td>1400.000000</td>\n",
       "      <td>39.164430</td>\n",
       "      <td>-86.530992</td>\n",
       "    </tr>\n",
       "    <tr>\n",
       "      <th>75%</th>\n",
       "      <td>2012.000000</td>\n",
       "      <td>10.000000</td>\n",
       "      <td>6.000000</td>\n",
       "      <td>1700.000000</td>\n",
       "      <td>39.173344</td>\n",
       "      <td>-86.508288</td>\n",
       "    </tr>\n",
       "    <tr>\n",
       "      <th>max</th>\n",
       "      <td>2015.000000</td>\n",
       "      <td>12.000000</td>\n",
       "      <td>7.000000</td>\n",
       "      <td>2300.000000</td>\n",
       "      <td>41.228665</td>\n",
       "      <td>86.596363</td>\n",
       "    </tr>\n",
       "  </tbody>\n",
       "</table>\n",
       "</div>"
      ],
      "text/plain": [
       "               Year         Month           Day          Hour      Latitude  \\\n",
       "count  53943.000000  53943.000000  53943.000000  53718.000000  53913.000000   \n",
       "mean    2008.968059      6.662162      4.196912   1347.265349     35.582109   \n",
       "std        3.789760      3.514630      1.909440    531.654039     11.289883   \n",
       "min     2003.000000      1.000000      1.000000      0.000000      0.000000   \n",
       "25%     2006.000000      4.000000      3.000000   1000.000000     39.142048   \n",
       "50%     2009.000000      7.000000      4.000000   1400.000000     39.164430   \n",
       "75%     2012.000000     10.000000      6.000000   1700.000000     39.173344   \n",
       "max     2015.000000     12.000000      7.000000   2300.000000     41.228665   \n",
       "\n",
       "          Longitude  \n",
       "count  53913.000000  \n",
       "mean     -78.619224  \n",
       "std       24.957587  \n",
       "min      -88.959213  \n",
       "25%      -86.551520  \n",
       "50%      -86.530992  \n",
       "75%      -86.508288  \n",
       "max       86.596363  "
      ]
     },
     "execution_count": 8,
     "metadata": {},
     "output_type": "execute_result"
    }
   ],
   "source": [
    "df.describe()"
   ]
  },
  {
   "cell_type": "code",
   "execution_count": 12,
   "id": "fa96e3f3",
   "metadata": {},
   "outputs": [
    {
     "data": {
      "text/html": [
       "<div>\n",
       "<style scoped>\n",
       "    .dataframe tbody tr th:only-of-type {\n",
       "        vertical-align: middle;\n",
       "    }\n",
       "\n",
       "    .dataframe tbody tr th {\n",
       "        vertical-align: top;\n",
       "    }\n",
       "\n",
       "    .dataframe thead th {\n",
       "        text-align: right;\n",
       "    }\n",
       "</style>\n",
       "<table border=\"1\" class=\"dataframe\">\n",
       "  <thead>\n",
       "    <tr style=\"text-align: right;\">\n",
       "      <th></th>\n",
       "      <th>Year</th>\n",
       "      <th>Month</th>\n",
       "      <th>Day</th>\n",
       "      <th>Weekend?</th>\n",
       "      <th>Hour</th>\n",
       "      <th>Collision Type</th>\n",
       "      <th>Injury Type</th>\n",
       "      <th>Primary Factor</th>\n",
       "      <th>Reported_Location</th>\n",
       "      <th>Latitude</th>\n",
       "      <th>Longitude</th>\n",
       "    </tr>\n",
       "  </thead>\n",
       "  <tbody>\n",
       "    <tr>\n",
       "      <th>25295</th>\n",
       "      <td>2009</td>\n",
       "      <td>1</td>\n",
       "      <td>4</td>\n",
       "      <td>Weekday</td>\n",
       "      <td>1500.0</td>\n",
       "      <td>2-Car</td>\n",
       "      <td>No injury/unknown</td>\n",
       "      <td>OTHER (VEHICLE) - EXPLAIN IN NARRATIVE</td>\n",
       "      <td>GOURLEY PIKE</td>\n",
       "      <td>39.185072</td>\n",
       "      <td>-86.538931</td>\n",
       "    </tr>\n",
       "    <tr>\n",
       "      <th>22644</th>\n",
       "      <td>2010</td>\n",
       "      <td>4</td>\n",
       "      <td>4</td>\n",
       "      <td>Weekday</td>\n",
       "      <td>1100.0</td>\n",
       "      <td>2-Car</td>\n",
       "      <td>No injury/unknown</td>\n",
       "      <td>FAILURE TO YIELD RIGHT OF WAY</td>\n",
       "      <td>CURRY PIKE &amp; W 3RD</td>\n",
       "      <td>39.164480</td>\n",
       "      <td>-86.560150</td>\n",
       "    </tr>\n",
       "    <tr>\n",
       "      <th>49870</th>\n",
       "      <td>2003</td>\n",
       "      <td>3</td>\n",
       "      <td>3</td>\n",
       "      <td>Weekday</td>\n",
       "      <td>1600.0</td>\n",
       "      <td>2-Car</td>\n",
       "      <td>No injury/unknown</td>\n",
       "      <td>OTHER (DRIVER) - EXPLAIN IN NARRATIVE</td>\n",
       "      <td>MILO B SAMPSON &amp; SR4546</td>\n",
       "      <td>39.186352</td>\n",
       "      <td>-86.522192</td>\n",
       "    </tr>\n",
       "    <tr>\n",
       "      <th>24457</th>\n",
       "      <td>2010</td>\n",
       "      <td>3</td>\n",
       "      <td>4</td>\n",
       "      <td>Weekday</td>\n",
       "      <td>1900.0</td>\n",
       "      <td>2-Car</td>\n",
       "      <td>No injury/unknown</td>\n",
       "      <td>OTHER (DRIVER) - EXPLAIN IN NARRATIVE</td>\n",
       "      <td>JUDAH &amp; SR446S</td>\n",
       "      <td>0.000000</td>\n",
       "      <td>0.000000</td>\n",
       "    </tr>\n",
       "    <tr>\n",
       "      <th>18750</th>\n",
       "      <td>2011</td>\n",
       "      <td>8</td>\n",
       "      <td>3</td>\n",
       "      <td>Weekday</td>\n",
       "      <td>1800.0</td>\n",
       "      <td>2-Car</td>\n",
       "      <td>No injury/unknown</td>\n",
       "      <td>UNSAFE BACKING</td>\n",
       "      <td>E 3RD ST</td>\n",
       "      <td>39.164512</td>\n",
       "      <td>-86.550624</td>\n",
       "    </tr>\n",
       "  </tbody>\n",
       "</table>\n",
       "</div>"
      ],
      "text/plain": [
       "       Year  Month  Day Weekend?    Hour Collision Type        Injury Type  \\\n",
       "25295  2009      1    4  Weekday  1500.0          2-Car  No injury/unknown   \n",
       "22644  2010      4    4  Weekday  1100.0          2-Car  No injury/unknown   \n",
       "49870  2003      3    3  Weekday  1600.0          2-Car  No injury/unknown   \n",
       "24457  2010      3    4  Weekday  1900.0          2-Car  No injury/unknown   \n",
       "18750  2011      8    3  Weekday  1800.0          2-Car  No injury/unknown   \n",
       "\n",
       "                               Primary Factor        Reported_Location  \\\n",
       "25295  OTHER (VEHICLE) - EXPLAIN IN NARRATIVE             GOURLEY PIKE   \n",
       "22644           FAILURE TO YIELD RIGHT OF WAY       CURRY PIKE & W 3RD   \n",
       "49870   OTHER (DRIVER) - EXPLAIN IN NARRATIVE  MILO B SAMPSON & SR4546   \n",
       "24457   OTHER (DRIVER) - EXPLAIN IN NARRATIVE           JUDAH & SR446S   \n",
       "18750                          UNSAFE BACKING                 E 3RD ST   \n",
       "\n",
       "        Latitude  Longitude  \n",
       "25295  39.185072 -86.538931  \n",
       "22644  39.164480 -86.560150  \n",
       "49870  39.186352 -86.522192  \n",
       "24457   0.000000   0.000000  \n",
       "18750  39.164512 -86.550624  "
      ]
     },
     "execution_count": 12,
     "metadata": {},
     "output_type": "execute_result"
    }
   ],
   "source": [
    "# drop and check again with the functions from above\n",
    "df = df.dropna()\n",
    "df.sample(5)"
   ]
  },
  {
   "cell_type": "code",
   "execution_count": 20,
   "id": "9a5c54ff",
   "metadata": {},
   "outputs": [
    {
     "name": "stdout",
     "output_type": "stream",
     "text": [
      "   Year  Month  Day Weekend?    Hour Collision Type         Injury Type  \\\n",
      "0  2015      1    5  Weekday     0.0          2-Car   No injury/unknown   \n",
      "1  2015      1    6  Weekday  1500.0          2-Car   No injury/unknown   \n",
      "2  2015      1    6  Weekend  2300.0          2-Car  Non-incapacitating   \n",
      "3  2015      1    7  Weekend   900.0          2-Car  Non-incapacitating   \n",
      "4  2015      1    7  Weekend  1100.0          2-Car   No injury/unknown   \n",
      "\n",
      "                          Primary Factor      Reported_Location   Latitude  \\\n",
      "0  OTHER (DRIVER) - EXPLAIN IN NARRATIVE             1ST & FESS  39.159207   \n",
      "1                  FOLLOWING TOO CLOSELY          2ND & COLLEGE  39.161440   \n",
      "2              DISREGARD SIGNAL/REG SIGN  BASSWOOD & BLOOMFIELD  39.149780   \n",
      "3          FAILURE TO YIELD RIGHT OF WAY         GATES & JACOBS  39.165655   \n",
      "4          FAILURE TO YIELD RIGHT OF WAY                  W 3RD  39.164848   \n",
      "\n",
      "   Longitude  \n",
      "0 -86.525874  \n",
      "1 -86.534848  \n",
      "2 -86.568890  \n",
      "3 -86.575956  \n",
      "4 -86.579625  \n"
     ]
    }
   ],
   "source": [
    "import pandas as pd\n",
    "\n",
    "# Read Excel file and replace missing values with 0\n",
    "df2 = pd.read_excel('C:/Users/Alexander Michelsen/Python Projects/Mini Project 1 - data wrangling/data sets/Car Crash Dataset.xlsx')\n",
    "df2.fillna(0, inplace=True)\n",
    "\n",
    "# Display the first few rows of the DataFrame\n",
    "print(df2.head())\n"
   ]
  },
  {
   "cell_type": "code",
   "execution_count": 30,
   "id": "ea8e859c",
   "metadata": {},
   "outputs": [
    {
     "data": {
      "text/plain": [
       "'Weekday'"
      ]
     },
     "execution_count": 30,
     "metadata": {},
     "output_type": "execute_result"
    }
   ],
   "source": [
    "df['Weekend?'].value_counts().index[0]"
   ]
  },
  {
   "cell_type": "code",
   "execution_count": 32,
   "id": "7a2b38d1",
   "metadata": {},
   "outputs": [
    {
     "data": {
      "text/plain": [
       "Year                 0\n",
       "Month                0\n",
       "Day                  0\n",
       "Weekend?             0\n",
       "Hour                 0\n",
       "Collision Type       0\n",
       "Injury Type          0\n",
       "Primary Factor       0\n",
       "Reported_Location    0\n",
       "Latitude             0\n",
       "Longitude            0\n",
       "dtype: int64"
      ]
     },
     "execution_count": 32,
     "metadata": {},
     "output_type": "execute_result"
    }
   ],
   "source": [
    "df.isnull().sum()"
   ]
  },
  {
   "cell_type": "code",
   "execution_count": 34,
   "id": "ceb7fe1e",
   "metadata": {},
   "outputs": [
    {
     "data": {
      "text/plain": [
       "Year                   int64\n",
       "Month                  int64\n",
       "Day                    int64\n",
       "Weekend?              object\n",
       "Hour                 float64\n",
       "Collision Type        object\n",
       "Injury Type           object\n",
       "Primary Factor        object\n",
       "Reported_Location     object\n",
       "Latitude             float64\n",
       "Longitude            float64\n",
       "dtype: object"
      ]
     },
     "execution_count": 34,
     "metadata": {},
     "output_type": "execute_result"
    }
   ],
   "source": [
    "df.dtypes"
   ]
  },
  {
   "cell_type": "code",
   "execution_count": null,
   "id": "cf91f620",
   "metadata": {},
   "outputs": [],
   "source": [
    "type: object\n",
    "# assign a type\n",
    "df[\"Weekend?\"] = df[\"Weekend?\"].astype('category')\n",
    "df[\"Collision Type\"] = df[\"Collision Type\"].astype('category')\n",
    "df[\"sex\"] = df[\"sex\"].astype('category')"
   ]
  }
 ],
 "metadata": {
  "kernelspec": {
   "display_name": "Python 3 (ipykernel)",
   "language": "python",
   "name": "python3"
  },
  "language_info": {
   "codemirror_mode": {
    "name": "ipython",
    "version": 3
   },
   "file_extension": ".py",
   "mimetype": "text/x-python",
   "name": "python",
   "nbconvert_exporter": "python",
   "pygments_lexer": "ipython3",
   "version": "3.11.5"
  }
 },
 "nbformat": 4,
 "nbformat_minor": 5
}
